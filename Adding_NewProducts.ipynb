{
  "nbformat": 4,
  "nbformat_minor": 0,
  "metadata": {
    "colab": {
      "name": "Adding_NewProducts.ipynb",
      "provenance": [],
      "collapsed_sections": []
    },
    "kernelspec": {
      "name": "python3",
      "display_name": "Python 3"
    },
    "language_info": {
      "name": "python"
    }
  },
  "cells": [
    {
      "cell_type": "markdown",
      "metadata": {
        "id": "HxgPhMsO6tIU"
      },
      "source": [
        "**Loading the records from Json files:**\n",
        "\n"
      ]
    },
    {
      "cell_type": "code",
      "metadata": {
        "id": "p_5ziiye6oB9"
      },
      "source": [
        "import json\n",
        "fd = open(\"record.json\", 'r')\n",
        "products = fd.read()\n",
        "fd.close()\n",
        "\n",
        "records = json.loads(products)"
      ],
      "execution_count": null,
      "outputs": []
    },
    {
      "cell_type": "markdown",
      "metadata": {
        "id": "XdFdk1tZ3tVW"
      },
      "source": [
        "**Viewing the record.json file in dictonary format:**\n",
        "\n"
      ]
    },
    {
      "cell_type": "code",
      "metadata": {
        "id": "Ln1hvjsI_J-a"
      },
      "source": [
        "print(records)"
      ],
      "execution_count": null,
      "outputs": []
    },
    {
      "cell_type": "markdown",
      "metadata": {
        "id": "f3f1bv7n276r"
      },
      "source": [
        "\n",
        "**Adding new products or Adding extra quantity to the existing products:**\n",
        "\n",
        "\n",
        "\n"
      ]
    },
    {
      "cell_type": "code",
      "metadata": {
        "id": "g-7AtCem_fxs"
      },
      "source": [
        "import json\n",
        "fd = open(\"record.json\", 'r')\n",
        "products = fd.read()\n",
        "fd.close()\n",
        "\n",
        "records = json.loads(products)\n",
        "\n",
        "prod_id = input(\"Enter product id: \")\n",
        "qn = int(input(\"Enter quantity: \"))\n",
        "\n",
        "if prod_id in records.keys():\n",
        "    records[prod_id][\"Quantity\"] = records[prod_id][\"Quantity\"] + qn\n",
        "    print(\"SUCCESSFULLY,UPDATED THE QUANTITY FOR THE SPECIFIED ITEM!!!\")\n",
        "else:\n",
        "    name = input(\"Enter name: \")\n",
        "    pr = int(input(\"Enter price: \"))\n",
        "    man = input(\"Enter Manufacturer: \")\n",
        "    edible = input(name+\" is edible means Yes or No: \")\n",
        "    records[prod_id] = {\"Name\": name, \"Price\": pr, \"Quantity\": qn, \"Manufacturer\": man, \"Edible\": edible}\n",
        "    print(\"SUCCESSFULLY, ADDED THE NEW ITEM!!!\")\n",
        "\n",
        "js = json.dumps(records)\n",
        "\n",
        "fd = open(\"record.json\", 'w')\n",
        "fd.write(js)\n",
        "fd.close()\n"
      ],
      "execution_count": null,
      "outputs": []
    },
    {
      "cell_type": "markdown",
      "metadata": {
        "id": "M_LclIb24fr9"
      },
      "source": [
        "**What are products present in the file!!**\n",
        "\n"
      ]
    },
    {
      "cell_type": "code",
      "metadata": {
        "id": "_apWxmJHF0UL"
      },
      "source": [
        "import json\n",
        "fd = open(\"record.json\", 'r')\n",
        "products = fd.read()\n",
        "fd.close()\n",
        "records = json.loads(products)\n",
        "\n",
        "for index, prod in enumerate(records):\n",
        "    print(str(index + 1) + \".\", records[prod][\"Name\"])"
      ],
      "execution_count": null,
      "outputs": []
    },
    {
      "cell_type": "markdown",
      "metadata": {
        "id": "lms3tLgl6089"
      },
      "source": [
        "**Deleting any item in the json file!!**\n",
        "\n"
      ]
    },
    {
      "cell_type": "code",
      "metadata": {
        "id": "qCb4lhbh5I3n"
      },
      "source": [
        "import json\n",
        "fd = open(\"record.json\", 'r')\n",
        "products = fd.read()\n",
        "fd.close()\n",
        "records = json.loads(products)\n",
        "deleting_item  = input(\"Enter product id of the item that you want to delete: \")\n",
        "\n",
        "if (deleting_item in records.keys()):\n",
        "  del records[deleting_item]\n",
        "  print(\"THE SPECIFIED ITEM DELETED SUCCESSFULLY!!\")\n",
        "else:\n",
        "  print(\"ITEM DOESN'T EXIST!!\")\n",
        "js = json.dumps(records)\n",
        "\n",
        "fd = open(\"record.json\", 'w')\n",
        "fd.write(js)\n",
        "fd.close()"
      ],
      "execution_count": null,
      "outputs": []
    },
    {
      "cell_type": "markdown",
      "metadata": {
        "id": "IHcAZF86EWTQ"
      },
      "source": [
        "**Updating the price of the specified item!!**\n",
        "\n",
        "\n",
        "\n",
        "\n",
        "\n"
      ]
    },
    {
      "cell_type": "code",
      "metadata": {
        "id": "x9YlXSKV7PIY"
      },
      "source": [
        "import json\n",
        "\n",
        "fd = open(\"record.json\", 'r')\n",
        "products = fd.read()\n",
        "fd.close()\n",
        "records = json.loads(products)\n",
        "\n",
        "prod_id = input(\"Enter the item's product id: \")\n",
        "\n",
        "if (prod_id in records.keys()):\n",
        "  changed_price = int(input(\"Enter the new price of the item no, \" + prod_id + \": \"))\n",
        "  records[prod_id][\"Price\"] = changed_price\n",
        "  print(\"PRICE UPDATED SUCCESSFULLY!!\")\n",
        "else:\n",
        "  print(\"ITEM DOESN'T EXIST!!\")\n",
        "\n",
        "js = json.dumps(records)\n",
        "fd = open(\"record.json\",'w')\n",
        "fd.write(js)\n",
        "fd.close()"
      ],
      "execution_count": null,
      "outputs": []
    },
    {
      "cell_type": "markdown",
      "metadata": {
        "id": "3s0k8V4jGY8w"
      },
      "source": [
        "**If there is any discount for particular item!!**"
      ]
    },
    {
      "cell_type": "code",
      "metadata": {
        "id": "twe03s3wGsu2"
      },
      "source": [
        "import json\n",
        "\n",
        "fd = open(\"record.json\", 'r')\n",
        "products = fd.read()\n",
        "fd.close()\n",
        "records = json.loads(products)\n",
        "\n",
        "prod_id = input(\"Enter the item's product id: \")\n",
        "\n",
        "if (prod_id in records.keys()):\n",
        "  discount = int(input(\"Enter the discount percent of the item no, \" + prod_id + \": \"))\n",
        "  discountAmount = float(discount / 100) * records[prod_id][\"Price\"]\n",
        "  records[prod_id][\"Price\"] = records[prod_id][\"Price\"] - discountAmount \n",
        "  print(\"DISCOUNT IS ADDED TO THAT ITEM!!!\")\n",
        "else:\n",
        "  print(\"ITEM DOESN'T EXIST!!\")\n",
        "\n",
        "js = json.dumps(records)\n",
        "fd = open(\"record.json\", 'w')\n",
        "fd.write(js)\n",
        "fd.close()"
      ],
      "execution_count": null,
      "outputs": []
    },
    {
      "cell_type": "markdown",
      "metadata": {
        "id": "ulJozYfkJ9XQ"
      },
      "source": [
        "**What are the edible items in the list!!**"
      ]
    },
    {
      "cell_type": "code",
      "metadata": {
        "id": "yjObibkjKEap"
      },
      "source": [
        "import json                                                                   # It ll be useful if incase govt suddenly ban the one edible item - it ll be easy find..\n",
        "fd = open(\"record.json\", 'r')\n",
        "products = fd.read()\n",
        "fd.close()\n",
        "records = json.loads(products)\n",
        "\n",
        "for index, prod in enumerate(records):                                            \n",
        "    if(records[prod][\"Edible\"] == 'Yes' or records[prod][\"Edible\"] == 'yes'):\n",
        "      print(str(index + 1) + \".\", records[prod][\"Name\"])"
      ],
      "execution_count": null,
      "outputs": []
    },
    {
      "cell_type": "markdown",
      "metadata": {
        "id": "BngoJ2JALZr8"
      },
      "source": [
        "**Checking the stock list with product id!!**\n",
        "\n",
        "\n",
        "\n"
      ]
    },
    {
      "cell_type": "code",
      "metadata": {
        "id": "99ygqddPKTqw"
      },
      "source": [
        "import json                                                                  \n",
        "fd = open(\"record.json\", 'r')\n",
        "products = fd.read()\n",
        "fd.close()\n",
        "records = json.loads(products)\n",
        "\n",
        "for index, prod in enumerate(records):                                            \n",
        "    print(\"{0:2}. ID: {1:<4}, Quan: {2:<4}\".format(str(index + 1), str(prod), records[prod][\"Quantity\"]))\n"
      ],
      "execution_count": null,
      "outputs": []
    },
    {
      "cell_type": "markdown",
      "metadata": {
        "id": "sRy3sSO0J7AL"
      },
      "source": [
        "**Total Sales Amount!!**"
      ]
    },
    {
      "cell_type": "code",
      "metadata": {
        "id": "N2jfzPuiMSYw"
      },
      "source": [
        "import json\n",
        "\n",
        "s = open(\"Sales.json\", 'r')\n",
        "output = s.read()\n",
        "s.close()\n",
        "sales = json.loads(output)\n",
        "\n",
        "amount = 0\n",
        "for i in range(len(sales)):\n",
        "    amount = amount + sales[str(i+1)][\"Billing Amount\"]\n",
        "\n",
        "print(\"Total Sales Amount: \",amount)"
      ],
      "execution_count": null,
      "outputs": []
    },
    {
      "cell_type": "markdown",
      "metadata": {
        "id": "9_OdPJKcRO1X"
      },
      "source": [
        "**Total Sales!!**"
      ]
    },
    {
      "cell_type": "code",
      "metadata": {
        "id": "Er6WD4m9RSsJ"
      },
      "source": [
        "import json\n",
        "\n",
        "s = open(\"Sales.json\", 'r')\n",
        "output = s.read()\n",
        "s.close()\n",
        "sales = json.loads(output)\n",
        "\n",
        "print(sales)"
      ],
      "execution_count": null,
      "outputs": []
    }
  ]
}