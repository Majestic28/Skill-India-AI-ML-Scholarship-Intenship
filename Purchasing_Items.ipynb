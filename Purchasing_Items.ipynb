{
  "nbformat": 4,
  "nbformat_minor": 0,
  "metadata": {
    "colab": {
      "name": "Purchasing_Items.ipynb",
      "provenance": [],
      "collapsed_sections": []
    },
    "kernelspec": {
      "name": "python3",
      "display_name": "Python 3"
    },
    "language_info": {
      "name": "python"
    }
  },
  "cells": [
    {
      "cell_type": "markdown",
      "metadata": {
        "id": "HiFIJDti173W"
      },
      "source": [
        "**Read Inventory:**\n",
        "\n"
      ]
    },
    {
      "cell_type": "code",
      "metadata": {
        "id": "kEP_EsQD6awn"
      },
      "source": [
        "import json\n",
        "\n",
        "fd = open(\"record.json\", 'r')\n",
        "products = fd.read()\n",
        "fd.close()\n",
        "records = json.loads(products)"
      ],
      "execution_count": null,
      "outputs": []
    },
    {
      "cell_type": "code",
      "metadata": {
        "id": "AvHgtgEp2MoK"
      },
      "source": [
        "print(records)"
      ],
      "execution_count": null,
      "outputs": []
    },
    {
      "cell_type": "markdown",
      "metadata": {
        "id": "elwm6v912x4J"
      },
      "source": [
        "**Purchasing an item:**\n"
      ]
    },
    {
      "cell_type": "code",
      "metadata": {
        "id": "PgSDljBk2Y_J"
      },
      "source": [
        "import json\n",
        "import time\n",
        "\n",
        "fd = open(\"record.json\", 'r')\n",
        "products = fd.read()\n",
        "fd.close()\n",
        "records = json.loads(products)\n",
        "\n",
        "s = open(\"Sales.json\", 'r')\n",
        "output = s.read()\n",
        "s.close()\n",
        "sales = json.loads(output)\n",
        "\n",
        "ui_prod = []\n",
        "ui_qn = []\n",
        "if sales == {}:\n",
        "    sales = {}\n",
        "billing_amount = 0.0\n",
        "\n",
        "\n",
        "\n",
        "\n",
        "\n",
        "for i in range(len(records)):\n",
        "    Id = input(\"Enter prod ID: \")\n",
        "\n",
        "    if Id in records.keys():\n",
        "        qn = int(input(\"Enter prod QN: \"))\n",
        "        if qn > 0:\n",
        "            if records[Id][\"Quantity\"] >= qn:\n",
        "                ui_prod.append(Id)\n",
        "                ui_qn.append(qn)\n",
        "                # records[Id][\"Quantity\"] = records[Id][\"Quantity\"] - qn\n",
        "                billing_amount = billing_amount + (qn * records[Id][\"Price\"])\n",
        "            else:\n",
        "                print(\"Sorry, we have only {0} quantities of {1}!!!\".format(str(records[Id][\"Quantity\"]),\n",
        "                                                                            records[Id][\"Name\"]))\n",
        "                cont = input(\"Are you buying this much quantity means yes or give no: \")\n",
        "                if cont == \"yes\" or cont == \"Yes\":\n",
        "                    qn = records[Id][\"Quantity\"]\n",
        "                    ui_prod.append(Id)\n",
        "                    ui_qn.append(qn)\n",
        "                    # records[Id][\"Quantity\"] = records[Id][\"Quantity\"] - qn\n",
        "                    billing_amount = billing_amount + (qn * records[Id][\"Price\"])\n",
        "        else:\n",
        "            print(\"Quantity value should be greater than 0!!!\")\n",
        "    else:\n",
        "        print(\"PRODUCT ID IS INVALID!!\")\n",
        "    op = input(\"Wish to buy more items means Y or N: \")\n",
        "\n",
        "    if op == \"N\" or op == \"n\":\n",
        "        break\n",
        "\n",
        "billing_amount = float(discount_to_billing_amount(billing_amount))                             # Run discount_to_billing_amount() func before executing this code\n",
        "print(\"Sir, Total amount:\", billing_amount)\n",
        "received_amount = float(input(\"AMOUNT RECEIVED FROM THE CUSTOMER: \"))\n",
        "balance = received_amount - billing_amount\n",
        "print(\"\\n\\n\")\n",
        "print(\"*\" * 80)\n",
        "print(\"\\t\\t\\t\\tGkl GROCERY STORE\")\n",
        "print(\"-\" * 80)\n",
        "print(\"S.no\\t\", \"\\tparticulars\\t\\t \", \"\\tQuantity\\t\", \"Cost(Rs.)\")\n",
        "print(\"-\" * 80)\n",
        "\n",
        "sales[len(sales) + 1] = {\"Product_id\": ui_prod, \"Name\": [], \"Quantity\": ui_qn, \"Price\": [],\n",
        "                         \"Transaction_Time\": time.ctime(), \"Billing Amount\": billing_amount}\n",
        "\n",
        "for i in range(len(ui_prod)):\n",
        "    sales[len(sales)][\"Name\"].append(records[ui_prod[i]][\"Name\"])\n",
        "    sales[len(sales)][\"Price\"].append(records[ui_prod[i]][\"Price\"])\n",
        "    print(\"{0:2}\\t \\t\\t{1:<10}\\t\\t\\t{2:4}\\t\\t  {3:2}\".format(i+1, records[ui_prod[i]][\"Name\"],\n",
        "                                                             ui_qn[0],\n",
        "                                                             records[ui_prod[i]][\"Price\"]))\n",
        "print(\"-\" * 80)\n",
        "\n",
        "print(\"TOTAL AMOUNT:\", billing_amount)\n",
        "print(\"AMOUNT TO BE PAID TO THE CUSTOMER:\", balance)\n",
        "print(\"************************THANK YOU, PLEASE VISIT AGAIN***************************\")\n",
        "\n"
      ],
      "execution_count": null,
      "outputs": []
    },
    {
      "cell_type": "markdown",
      "metadata": {
        "id": "doBBtVvF3OWw"
      },
      "source": [
        "**Updating inventory after purchase!!**"
      ]
    },
    {
      "cell_type": "code",
      "metadata": {
        "id": "llEtBshp3CDh"
      },
      "source": [
        "fd = open(\"record.json\", 'w')\n",
        "js = json.dumps(records)\n",
        "fd.write(js)\n",
        "fd.close()"
      ],
      "execution_count": null,
      "outputs": []
    },
    {
      "cell_type": "markdown",
      "metadata": {
        "id": "0WSNtT7Y3Vj_"
      },
      "source": [
        "**Sales.json**\n",
        "\n",
        "*   Updating the sales.json file, after billing\n",
        "\n",
        "\n"
      ]
    },
    {
      "cell_type": "code",
      "metadata": {
        "id": "cqosoYww3ba3"
      },
      "source": [
        "s = open(\"Sales.json\", 'w')\n",
        "salesJson = json.dumps(sales)\n",
        "s.write(salesJson)\n",
        "s.close()"
      ],
      "execution_count": null,
      "outputs": []
    },
    {
      "cell_type": "markdown",
      "metadata": {
        "id": "3Uhryu4VIxXX"
      },
      "source": [
        "**Discount Based on Billing Amount!!**"
      ]
    },
    {
      "cell_type": "code",
      "metadata": {
        "id": "SbzHBUC3VvBc"
      },
      "source": [
        "def discount_to_billing_amount(amount):\n",
        "    if 2000 <= amount <= 5000:\n",
        "        discount = float(2 / 100) * amount\n",
        "        amount = amount - discount\n",
        "    elif 5000 < amount <= 15000:\n",
        "        discount = float(5 / 100) * amount\n",
        "        amount = amount - discount\n",
        "    elif 15001 < amount <= 20000:\n",
        "        discount = float(7 / 100) * amount\n",
        "        amount = amount - discount\n",
        "    elif 20001 < amount:\n",
        "        discount = float(10 / 100) * amount\n",
        "        amount = amount - discount\n",
        "\n",
        "    return amount\n"
      ],
      "execution_count": null,
      "outputs": []
    }
  ]
}